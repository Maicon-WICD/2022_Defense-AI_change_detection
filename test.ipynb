{
 "cells": [
  {
   "cell_type": "code",
   "execution_count": 1,
   "metadata": {},
   "outputs": [],
   "source": [
    "import cv2"
   ]
  },
  {
   "cell_type": "code",
   "execution_count": 2,
   "metadata": {},
   "outputs": [
    {
     "ename": "error",
     "evalue": "OpenCV(4.6.0) D:\\a\\opencv-python\\opencv-python\\opencv\\modules\\highgui\\src\\window.cpp:1267: error: (-2:Unspecified error) The function is not implemented. Rebuild the library with Windows, GTK+ 2.x or Cocoa support. If you are on Ubuntu or Debian, install libgtk2.0-dev and pkg-config, then re-run cmake or configure script in function 'cvShowImage'\n",
     "output_type": "error",
     "traceback": [
      "\u001b[1;31m---------------------------------------------------------------------------\u001b[0m",
      "\u001b[1;31merror\u001b[0m                                     Traceback (most recent call last)",
      "\u001b[1;32mc:\\Dacon\\Wonguk\\2022_Defense-AI_change_detection\\test.ipynb 셀 2\u001b[0m in \u001b[0;36m<cell line: 5>\u001b[1;34m()\u001b[0m\n\u001b[0;32m      <a href='vscode-notebook-cell:/c%3A/Dacon/Wonguk/2022_Defense-AI_change_detection/test.ipynb#W2sZmlsZQ%3D%3D?line=1'>2</a>\u001b[0m rgb_image \u001b[39m=\u001b[39m cv2\u001b[39m.\u001b[39mimread(\u001b[39m'\u001b[39m\u001b[39mtrain/x/2015_DMG_2LB_000306.png\u001b[39m\u001b[39m'\u001b[39m)\n\u001b[0;32m      <a href='vscode-notebook-cell:/c%3A/Dacon/Wonguk/2022_Defense-AI_change_detection/test.ipynb#W2sZmlsZQ%3D%3D?line=3'>4</a>\u001b[0m \u001b[39m# rgb 이미지 보기\u001b[39;00m\n\u001b[1;32m----> <a href='vscode-notebook-cell:/c%3A/Dacon/Wonguk/2022_Defense-AI_change_detection/test.ipynb#W2sZmlsZQ%3D%3D?line=4'>5</a>\u001b[0m cv2\u001b[39m.\u001b[39;49mimshow(\u001b[39m'\u001b[39;49m\u001b[39mrgb_image\u001b[39;49m\u001b[39m'\u001b[39;49m, rgb_image)\n\u001b[0;32m      <a href='vscode-notebook-cell:/c%3A/Dacon/Wonguk/2022_Defense-AI_change_detection/test.ipynb#W2sZmlsZQ%3D%3D?line=5'>6</a>\u001b[0m cv2\u001b[39m.\u001b[39mwaitKey(\u001b[39m0\u001b[39m)\n",
      "\u001b[1;31merror\u001b[0m: OpenCV(4.6.0) D:\\a\\opencv-python\\opencv-python\\opencv\\modules\\highgui\\src\\window.cpp:1267: error: (-2:Unspecified error) The function is not implemented. Rebuild the library with Windows, GTK+ 2.x or Cocoa support. If you are on Ubuntu or Debian, install libgtk2.0-dev and pkg-config, then re-run cmake or configure script in function 'cvShowImage'\n"
     ]
    }
   ],
   "source": [
    "# rgb 이미지 불러오기\n",
    "rgb_image = cv2.imread('train/x/2015_DMG_2LB_000306.png')\n",
    "\n",
    "# rgb 이미지 보기\n",
    "cv2.imshow('rgb_image', rgb_image)\n",
    "cv2.waitKey(0) \n"
   ]
  },
  {
   "cell_type": "code",
   "execution_count": 5,
   "metadata": {},
   "outputs": [
    {
     "ename": "SyntaxError",
     "evalue": "not a PNG file (<string>)",
     "output_type": "error",
     "traceback": [
      "Traceback \u001b[1;36m(most recent call last)\u001b[0m:\n",
      "  File \u001b[0;32mc:\\Users\\jcc96\\miniconda3\\lib\\site-packages\\IPython\\core\\interactiveshell.py:3398\u001b[0m in \u001b[0;35mrun_code\u001b[0m\n    exec(code_obj, self.user_global_ns, self.user_ns)\n",
      "  Input \u001b[0;32mIn [5]\u001b[0m in \u001b[0;35m<cell line: 6>\u001b[0m\n    ndarray = img.imread(fileName)\n",
      "  File \u001b[0;32mc:\\Users\\jcc96\\miniconda3\\lib\\site-packages\\matplotlib\\image.py:1541\u001b[0m in \u001b[0;35mimread\u001b[0m\n    with img_open(fname) as image:\n",
      "  File \u001b[0;32mc:\\Users\\jcc96\\miniconda3\\lib\\site-packages\\PIL\\ImageFile.py:116\u001b[0m in \u001b[0;35m__init__\u001b[0m\n    self._open()\n",
      "\u001b[1;36m  File \u001b[1;32mc:\\Users\\jcc96\\miniconda3\\lib\\site-packages\\PIL\\PngImagePlugin.py:712\u001b[1;36m in \u001b[1;35m_open\u001b[1;36m\u001b[0m\n\u001b[1;33m    raise SyntaxError(\"not a PNG file\")\u001b[0m\n",
      "\u001b[1;36m  File \u001b[1;32m<string>\u001b[1;36m\u001b[0m\n\u001b[1;31mSyntaxError\u001b[0m\u001b[1;31m:\u001b[0m not a PNG file\n"
     ]
    }
   ],
   "source": [
    "import matplotlib.image as img\n",
    "import matplotlib.pyplot as pp\n",
    "\n",
    "fileName = 'C:/Dacon/Wonguk/2022_Defense-AI_change_detection/train/x/2015_DMG_1LB_000306.png'\n",
    "\n",
    "ndarray = img.imread(fileName)\n",
    "\n",
    "pp.imshow(ndarray)\n",
    "\n",
    "pp.show()\n"
   ]
  },
  {
   "cell_type": "code",
   "execution_count": null,
   "metadata": {},
   "outputs": [],
   "source": []
  }
 ],
 "metadata": {
  "kernelspec": {
   "display_name": "Python 3.8.13 ('base')",
   "language": "python",
   "name": "python3"
  },
  "language_info": {
   "codemirror_mode": {
    "name": "ipython",
    "version": 3
   },
   "file_extension": ".py",
   "mimetype": "text/x-python",
   "name": "python",
   "nbconvert_exporter": "python",
   "pygments_lexer": "ipython3",
   "version": "3.8.13"
  },
  "orig_nbformat": 4,
  "vscode": {
   "interpreter": {
    "hash": "3f98145dd245290570b0162849dea15997bb92bc65d6bf4fbd9aae2e8cfeecbe"
   }
  }
 },
 "nbformat": 4,
 "nbformat_minor": 2
}
